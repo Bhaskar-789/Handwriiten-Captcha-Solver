{
  "nbformat": 4,
  "nbformat_minor": 0,
  "metadata": {
    "colab": {
      "name": "bymergeTrained.ipynb",
      "provenance": [],
      "collapsed_sections": []
    },
    "kernelspec": {
      "name": "python3",
      "display_name": "Python 3"
    }
  },
  "cells": [
    {
      "cell_type": "code",
      "metadata": {
        "id": "BcjVLGhanti7",
        "colab_type": "code",
        "outputId": "93d61bdb-ff9d-4c3e-8034-250f646254e2",
        "colab": {
          "base_uri": "https://localhost:8080/",
          "height": 122
        }
      },
      "source": [
        "from google.colab import drive\n",
        "drive.mount('/content/gdrive/')"
      ],
      "execution_count": 0,
      "outputs": [
        {
          "output_type": "stream",
          "text": [
            "Go to this URL in a browser: https://accounts.google.com/o/oauth2/auth?client_id=947318989803-6bn6qk8qdgf4n4g3pfee6491hc0brc4i.apps.googleusercontent.com&redirect_uri=urn%3aietf%3awg%3aoauth%3a2.0%3aoob&response_type=code&scope=email%20https%3a%2f%2fwww.googleapis.com%2fauth%2fdocs.test%20https%3a%2f%2fwww.googleapis.com%2fauth%2fdrive%20https%3a%2f%2fwww.googleapis.com%2fauth%2fdrive.photos.readonly%20https%3a%2f%2fwww.googleapis.com%2fauth%2fpeopleapi.readonly\n",
            "\n",
            "Enter your authorization code:\n",
            "··········\n",
            "Mounted at /content/gdrive/\n"
          ],
          "name": "stdout"
        }
      ]
    },
    {
      "cell_type": "code",
      "metadata": {
        "id": "xL0iLmmtfyFP",
        "colab_type": "code",
        "outputId": "f3e5a9c5-6abc-4ccf-9758-24a94b25a839",
        "colab": {
          "base_uri": "https://localhost:8080/",
          "height": 241
        }
      },
      "source": [
        "!pip install emnist\n",
        "import emnist\n",
        "import tensorflow as tf\n",
        "from tensorflow import keras\n",
        "from keras.utils import np_utils\n",
        "import matplotlib.pyplot as plt\n",
        "import os\n",
        "%matplotlib inline"
      ],
      "execution_count": 0,
      "outputs": [
        {
          "output_type": "stream",
          "text": [
            "Collecting emnist\n",
            "  Downloading https://files.pythonhosted.org/packages/d1/f4/78b24acbef9e8fe976dda700f16a3606f3b8363b015bc555f8050fbbd8ac/emnist-0.0-py3-none-any.whl\n",
            "Requirement already satisfied: numpy in /usr/local/lib/python3.6/dist-packages (from emnist) (1.18.2)\n",
            "Requirement already satisfied: tqdm in /usr/local/lib/python3.6/dist-packages (from emnist) (4.38.0)\n",
            "Requirement already satisfied: requests in /usr/local/lib/python3.6/dist-packages (from emnist) (2.21.0)\n",
            "Requirement already satisfied: chardet<3.1.0,>=3.0.2 in /usr/local/lib/python3.6/dist-packages (from requests->emnist) (3.0.4)\n",
            "Requirement already satisfied: idna<2.9,>=2.5 in /usr/local/lib/python3.6/dist-packages (from requests->emnist) (2.8)\n",
            "Requirement already satisfied: certifi>=2017.4.17 in /usr/local/lib/python3.6/dist-packages (from requests->emnist) (2019.11.28)\n",
            "Requirement already satisfied: urllib3<1.25,>=1.21.1 in /usr/local/lib/python3.6/dist-packages (from requests->emnist) (1.24.3)\n",
            "Installing collected packages: emnist\n",
            "Successfully installed emnist-0.0\n"
          ],
          "name": "stdout"
        },
        {
          "output_type": "stream",
          "text": [
            "Using TensorFlow backend.\n"
          ],
          "name": "stderr"
        }
      ]
    },
    {
      "cell_type": "code",
      "metadata": {
        "id": "YuEtXboof2Z1",
        "colab_type": "code",
        "outputId": "5bfa1ee1-4d4c-477d-fd02-cc93ccc1da54",
        "colab": {
          "base_uri": "https://localhost:8080/",
          "height": 299
        }
      },
      "source": [
        "#Load Dataset\n",
        "train_data,train_labels=emnist.extract_training_samples('bymerge')\n",
        "test_data,test_labels=emnist.extract_test_samples('bymerge')\n",
        "test=test_labels\n",
        "plt.imshow(test_data[0])"
      ],
      "execution_count": 0,
      "outputs": [
        {
          "output_type": "stream",
          "text": [
            "Downloading emnist.zip: 536MB [00:03, 162MB/s]\n"
          ],
          "name": "stderr"
        },
        {
          "output_type": "execute_result",
          "data": {
            "text/plain": [
              "<matplotlib.image.AxesImage at 0x7fe4e75f4240>"
            ]
          },
          "metadata": {
            "tags": []
          },
          "execution_count": 3
        },
        {
          "output_type": "display_data",
          "data": {
            "image/png": "[encoded data removed]",
            "text/plain": [
              "<Figure size 432x288 with 1 Axes>"
            ]
          },
          "metadata": {
            "tags": []
          }
        }
      ]
    },
    {
      "cell_type": "code",
      "metadata": {
        "id": "Le1QAPPBf9Kw",
        "colab_type": "code",
        "colab": {}
      },
      "source": [
        "#Reshaping Training Data to make 28X28 grid image\n",
        "train_data=train_data.reshape(train_data.shape[0],28,28,1).astype('float32')\n",
        "test_data=test_data.reshape(test_data.shape[0],28,28,1).astype('float32')"
      ],
      "execution_count": 0,
      "outputs": []
    },
    {
      "cell_type": "code",
      "metadata": {
        "id": "_PAIZBYtgF37",
        "colab_type": "code",
        "colab": {}
      },
      "source": [
        "#Normalizing data\n",
        "train_data=train_data/255\n",
        "test_data=test_data/255"
      ],
      "execution_count": 0,
      "outputs": []
    },
    {
      "cell_type": "code",
      "metadata": {
        "id": "C4gh9nObgHq6",
        "colab_type": "code",
        "colab": {}
      },
      "source": [
        "#One Hot Encoding\n",
        "train_labels=np_utils.to_categorical(train_labels)\n",
        "test_labels=np_utils.to_categorical(test_labels)"
      ],
      "execution_count": 0,
      "outputs": []
    },
    {
      "cell_type": "code",
      "metadata": {
        "id": "KyFc9qDJgJYS",
        "colab_type": "code",
        "colab": {}
      },
      "source": [
        "num_classes=train_labels.shape[1]"
      ],
      "execution_count": 0,
      "outputs": []
    },
    {
      "cell_type": "code",
      "metadata": {
        "id": "yyatMFnAgLDC",
        "colab_type": "code",
        "colab": {}
      },
      "source": [
        "#Our Model\n",
        "model = keras.models.Sequential()"
      ],
      "execution_count": 0,
      "outputs": []
    },
    {
      "cell_type": "code",
      "metadata": {
        "id": "5pplSX5WgOVr",
        "colab_type": "code",
        "colab": {}
      },
      "source": [
        "#Adding Layer in following manner: 1st Convolutional, 2nd Pooling\n",
        "from tensorflow.keras.layers import Conv2D\n",
        "from tensorflow.keras.layers import MaxPooling2D\n",
        "from tensorflow.keras.layers import Dropout\n",
        "from tensorflow.keras.layers import Flatten\n",
        "from tensorflow.keras.layers import Dense\n"
      ],
      "execution_count": 0,
      "outputs": []
    },
    {
      "cell_type": "code",
      "metadata": {
        "id": "ksj2M2TbgPx1",
        "colab_type": "code",
        "colab": {}
      },
      "source": [
        "model.add(Conv2D(32,(5,5),strides=(2,2),input_shape=(28,28,1), activation='relu',padding='same'))\n",
        "model.add(MaxPooling2D())\n",
        "#model.add(Conv2D(64,(3,3),strides=(1,1), activation='relu',padding='same'))\n",
        "#model.add(MaxPooling2D())\n",
        "model.add(Conv2D(128,(3,3),strides=(1,1), activation='relu',padding='same'))\n",
        "model.add(MaxPooling2D())"
      ],
      "execution_count": 0,
      "outputs": []
    },
    {
      "cell_type": "code",
      "metadata": {
        "id": "RjKRH9WHgRrB",
        "colab_type": "code",
        "colab": {}
      },
      "source": [
        "model.add(Flatten())\n",
        "model.add(Dropout(0.3))"
      ],
      "execution_count": 0,
      "outputs": []
    },
    {
      "cell_type": "code",
      "metadata": {
        "id": "GEGJqKW6gUY-",
        "colab_type": "code",
        "colab": {}
      },
      "source": [
        "#model.add(Dense(units=1024,activation='relu'))\n",
        "#model.add(Dropout(0.5))"
      ],
      "execution_count": 0,
      "outputs": []
    },
    {
      "cell_type": "code",
      "metadata": {
        "id": "iC1eyckDjLDb",
        "colab_type": "code",
        "colab": {}
      },
      "source": [
        "#model.add(Dense(units=512,activation='relu'))\n",
        "#model.add(Dropout(0.5))\n",
        "model.add(Dense(units=512,activation='relu'))\n",
        "model.add(Dropout(0.3))"
      ],
      "execution_count": 0,
      "outputs": []
    },
    {
      "cell_type": "code",
      "metadata": {
        "id": "XrsuEDzEjPiy",
        "colab_type": "code",
        "colab": {}
      },
      "source": [
        "model.add(Dense(units=num_classes,activation='softmax'))"
      ],
      "execution_count": 0,
      "outputs": []
    },
    {
      "cell_type": "code",
      "metadata": {
        "id": "KIhOHh0DjSCK",
        "colab_type": "code",
        "colab": {}
      },
      "source": [
        "model.compile(loss='categorical_crossentropy',optimizer='adam',metrics=['accuracy'])"
      ],
      "execution_count": 0,
      "outputs": []
    },
    {
      "cell_type": "code",
      "metadata": {
        "id": "2yO7xNMMjT1g",
        "colab_type": "code",
        "outputId": "0ac17497-0787-47dd-a8a0-d17e6150e057",
        "colab": {
          "base_uri": "https://localhost:8080/",
          "height": 459
        }
      },
      "source": [
        "model.summary()"
      ],
      "execution_count": 0,
      "outputs": [
        {
          "output_type": "stream",
          "text": [
            "Model: \"sequential\"\n",
            "_________________________________________________________________\n",
            "Layer (type)                 Output Shape              Param #   \n",
            "=================================================================\n",
            "conv2d (Conv2D)              (None, 14, 14, 32)        832       \n",
            "_________________________________________________________________\n",
            "max_pooling2d (MaxPooling2D) (None, 7, 7, 32)          0         \n",
            "_________________________________________________________________\n",
            "conv2d_1 (Conv2D)            (None, 7, 7, 128)         36992     \n",
            "_________________________________________________________________\n",
            "max_pooling2d_1 (MaxPooling2 (None, 3, 3, 128)         0         \n",
            "_________________________________________________________________\n",
            "flatten (Flatten)            (None, 1152)              0         \n",
            "_________________________________________________________________\n",
            "dropout (Dropout)            (None, 1152)              0         \n",
            "_________________________________________________________________\n",
            "dense (Dense)                (None, 512)               590336    \n",
            "_________________________________________________________________\n",
            "dropout_1 (Dropout)          (None, 512)               0         \n",
            "_________________________________________________________________\n",
            "dense_1 (Dense)              (None, 47)                24111     \n",
            "=================================================================\n",
            "Total params: 652,271\n",
            "Trainable params: 652,271\n",
            "Non-trainable params: 0\n",
            "_________________________________________________________________\n"
          ],
          "name": "stdout"
        }
      ]
    },
    {
      "cell_type": "code",
      "metadata": {
        "id": "Bx6Wk4pCjVWJ",
        "colab_type": "code",
        "outputId": "88feaa08-3fb3-4f44-ef03-5c64476ae315",
        "colab": {
          "base_uri": "https://localhost:8080/",
          "height": 1000
        }
      },
      "source": [
        "model.fit(train_data,train_labels,epochs=30,batch_size=500,shuffle=True)\n",
        "#!mkdir -p saved_models_ps1\n",
        "#model.save('saved_models_ps1/my_model1')"
      ],
      "execution_count": 0,
      "outputs": [
        {
          "output_type": "stream",
          "text": [
            "Epoch 1/30\n",
            "1396/1396 [==============================] - 325s 233ms/step - loss: 0.5333 - accuracy: 0.8267\n",
            "Epoch 2/30\n",
            "1396/1396 [==============================] - 326s 233ms/step - loss: 0.3346 - accuracy: 0.8809\n",
            "Epoch 3/30\n",
            "1396/1396 [==============================] - 323s 231ms/step - loss: 0.3070 - accuracy: 0.8890\n",
            "Epoch 4/30\n",
            "1396/1396 [==============================] - 324s 232ms/step - loss: 0.2935 - accuracy: 0.8927\n",
            "Epoch 5/30\n",
            "1396/1396 [==============================] - 324s 232ms/step - loss: 0.2840 - accuracy: 0.8953\n",
            "Epoch 6/30\n",
            "1396/1396 [==============================] - 324s 232ms/step - loss: 0.2769 - accuracy: 0.8970\n",
            "Epoch 7/30\n",
            "1396/1396 [==============================] - 330s 236ms/step - loss: 0.2706 - accuracy: 0.8989\n",
            "Epoch 8/30\n",
            "1396/1396 [==============================] - 323s 232ms/step - loss: 0.2656 - accuracy: 0.9004\n",
            "Epoch 9/30\n",
            "1396/1396 [==============================] - 323s 231ms/step - loss: 0.2617 - accuracy: 0.9015\n",
            "Epoch 10/30\n",
            "1396/1396 [==============================] - 333s 239ms/step - loss: 0.2587 - accuracy: 0.9023\n",
            "Epoch 11/30\n",
            "1396/1396 [==============================] - 333s 238ms/step - loss: 0.2551 - accuracy: 0.9029\n",
            "Epoch 12/30\n",
            "1396/1396 [==============================] - 325s 233ms/step - loss: 0.2528 - accuracy: 0.9039\n",
            "Epoch 13/30\n",
            "1396/1396 [==============================] - 324s 232ms/step - loss: 0.2496 - accuracy: 0.9046\n",
            "Epoch 14/30\n",
            "1396/1396 [==============================] - 325s 233ms/step - loss: 0.2479 - accuracy: 0.9048\n",
            "Epoch 15/30\n",
            "1396/1396 [==============================] - 326s 234ms/step - loss: 0.2453 - accuracy: 0.9055\n",
            "Epoch 16/30\n",
            "1396/1396 [==============================] - 326s 234ms/step - loss: 0.2436 - accuracy: 0.9062\n",
            "Epoch 17/30\n",
            "1396/1396 [==============================] - 326s 233ms/step - loss: 0.2406 - accuracy: 0.9069\n",
            "Epoch 18/30\n",
            "1396/1396 [==============================] - 326s 233ms/step - loss: 0.2400 - accuracy: 0.9070\n",
            "Epoch 19/30\n",
            "1396/1396 [==============================] - 328s 235ms/step - loss: 0.2383 - accuracy: 0.9074\n",
            "Epoch 20/30\n",
            "1396/1396 [==============================] - 327s 235ms/step - loss: 0.2369 - accuracy: 0.9077\n",
            "Epoch 21/30\n",
            "1396/1396 [==============================] - 327s 235ms/step - loss: 0.2356 - accuracy: 0.9082\n",
            "Epoch 22/30\n",
            "1396/1396 [==============================] - 325s 232ms/step - loss: 0.2335 - accuracy: 0.9089\n",
            "Epoch 23/30\n",
            "1396/1396 [==============================] - 324s 232ms/step - loss: 0.2329 - accuracy: 0.9090\n",
            "Epoch 24/30\n",
            "1396/1396 [==============================] - 326s 233ms/step - loss: 0.2316 - accuracy: 0.9096\n",
            "Epoch 25/30\n",
            "1396/1396 [==============================] - 325s 232ms/step - loss: 0.2308 - accuracy: 0.9095\n",
            "Epoch 26/30\n",
            "1396/1396 [==============================] - 325s 233ms/step - loss: 0.2296 - accuracy: 0.9098\n",
            "Epoch 27/30\n",
            "1396/1396 [==============================] - 324s 232ms/step - loss: 0.2284 - accuracy: 0.9103\n",
            "Epoch 28/30\n",
            "1396/1396 [==============================] - 323s 231ms/step - loss: 0.2277 - accuracy: 0.9101\n",
            "Epoch 29/30\n",
            "1396/1396 [==============================] - 325s 233ms/step - loss: 0.2267 - accuracy: 0.9105\n",
            "Epoch 30/30\n",
            "1396/1396 [==============================] - 325s 233ms/step - loss: 0.2262 - accuracy: 0.9107\n"
          ],
          "name": "stdout"
        },
        {
          "output_type": "execute_result",
          "data": {
            "text/plain": [
              "<tensorflow.python.keras.callbacks.History at 0x7fe4e15b0e48>"
            ]
          },
          "metadata": {
            "tags": []
          },
          "execution_count": 17
        }
      ]
    },
    {
      "cell_type": "code",
      "metadata": {
        "id": "tWwLvD80jf0C",
        "colab_type": "code",
        "colab": {}
      },
      "source": [
        "score = model.evaluate(test_data, test_labels, verbose=0,batch_size=200)"
      ],
      "execution_count": 0,
      "outputs": []
    },
    {
      "cell_type": "code",
      "metadata": {
        "id": "4Igml-63KTQJ",
        "colab_type": "code",
        "outputId": "4d6c2b5a-5eeb-4479-946e-bf0f99616454",
        "colab": {
          "base_uri": "https://localhost:8080/",
          "height": 34
        }
      },
      "source": [
        "print(\"Accuracy on Test Data=\",score[1])"
      ],
      "execution_count": 0,
      "outputs": [
        {
          "output_type": "stream",
          "text": [
            "Accuracy on Test Data= 0.9075505137443542\n"
          ],
          "name": "stdout"
        }
      ]
    },
    {
      "cell_type": "code",
      "metadata": {
        "id": "akTxWrzQKk5f",
        "colab_type": "code",
        "colab": {}
      },
      "source": [
        "#RENAME FILE NAME PLEASE!!\n",
        "!mkdir -p /content/gdrive/'My Drive'/saved_model\n",
        "model.save(\"/content/gdrive/My Drive/saved_model/merge4.h5\")"
      ],
      "execution_count": 0,
      "outputs": []
    },
    {
      "cell_type": "code",
      "metadata": {
        "id": "WMC54T8rK2JF",
        "colab_type": "code",
        "outputId": "34eb82dc-acd6-4a75-c8a8-3264239d210b",
        "colab": {
          "base_uri": "https://localhost:8080/",
          "height": 34
        }
      },
      "source": [
        "!ls /content/gdrive/'My Drive'/saved_model"
      ],
      "execution_count": 0,
      "outputs": [
        {
          "output_type": "stream",
          "text": [
            "my_model  new2\n"
          ],
          "name": "stdout"
        }
      ]
    },
    {
      "cell_type": "code",
      "metadata": {
        "id": "Hkoib_X0K8VC",
        "colab_type": "code",
        "colab": {}
      },
      "source": [
        ""
      ],
      "execution_count": 0,
      "outputs": []
    }
  ]
}